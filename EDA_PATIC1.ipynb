{
  "nbformat": 4,
  "nbformat_minor": 0,
  "metadata": {
    "colab": {
      "provenance": [],
      "authorship_tag": "ABX9TyOYgqfk9K/YOFByUUX1wX2I",
      "include_colab_link": true
    },
    "kernelspec": {
      "name": "python3",
      "display_name": "Python 3"
    },
    "language_info": {
      "name": "python"
    }
  },
  "cells": [
    {
      "cell_type": "markdown",
      "metadata": {
        "id": "view-in-github",
        "colab_type": "text"
      },
      "source": [
        "<a href=\"https://colab.research.google.com/github/Rosvend/Patrol-routes-optimization-Medellin/blob/main/EDA_PATIC1.ipynb\" target=\"_parent\"><img src=\"https://colab.research.google.com/assets/colab-badge.svg\" alt=\"Open In Colab\"/></a>"
      ]
    },
    {
      "cell_type": "code",
      "source": [
        "!pip install ydata-profiling\n",
        "from ydata_profiling import ProfileReport\n",
        "import seaborn as sns\n",
        "import matplotlib.pyplot as plt\n",
        "import pandas as pd\n",
        "import numpy as np\n",
        "import gdown"
      ],
      "metadata": {
        "id": "5P4wSEu1Muuu",
        "colab": {
          "base_uri": "https://localhost:8080/"
        },
        "outputId": "52325121-4675-49a9-de72-e6d59af2c1d7"
      },
      "execution_count": 14,
      "outputs": [
        {
          "output_type": "stream",
          "name": "stdout",
          "text": [
            "Requirement already satisfied: ydata-profiling in /usr/local/lib/python3.11/dist-packages (4.13.0)\n",
            "Requirement already satisfied: scipy<1.14,>=1.4.1 in /usr/local/lib/python3.11/dist-packages (from ydata-profiling) (1.13.1)\n",
            "Requirement already satisfied: pandas!=1.4.0,<3.0,>1.1 in /usr/local/lib/python3.11/dist-packages (from ydata-profiling) (2.2.2)\n",
            "Requirement already satisfied: matplotlib<=3.10,>=3.5 in /usr/local/lib/python3.11/dist-packages (from ydata-profiling) (3.10.0)\n",
            "Requirement already satisfied: pydantic>=2 in /usr/local/lib/python3.11/dist-packages (from ydata-profiling) (2.10.6)\n",
            "Requirement already satisfied: PyYAML<6.1,>=5.0.0 in /usr/local/lib/python3.11/dist-packages (from ydata-profiling) (6.0.2)\n",
            "Requirement already satisfied: jinja2<3.2,>=2.11.1 in /usr/local/lib/python3.11/dist-packages (from ydata-profiling) (3.1.5)\n",
            "Requirement already satisfied: visions<0.7.7,>=0.7.5 in /usr/local/lib/python3.11/dist-packages (from visions[type_image_path]<0.7.7,>=0.7.5->ydata-profiling) (0.7.6)\n",
            "Requirement already satisfied: numpy<2.2,>=1.16.0 in /usr/local/lib/python3.11/dist-packages (from ydata-profiling) (1.26.4)\n",
            "Requirement already satisfied: htmlmin==0.1.12 in /usr/local/lib/python3.11/dist-packages (from ydata-profiling) (0.1.12)\n",
            "Requirement already satisfied: phik<0.13,>=0.11.1 in /usr/local/lib/python3.11/dist-packages (from ydata-profiling) (0.12.4)\n",
            "Requirement already satisfied: requests<3,>=2.24.0 in /usr/local/lib/python3.11/dist-packages (from ydata-profiling) (2.32.3)\n",
            "Requirement already satisfied: tqdm<5,>=4.48.2 in /usr/local/lib/python3.11/dist-packages (from ydata-profiling) (4.67.1)\n",
            "Requirement already satisfied: seaborn<0.14,>=0.10.1 in /usr/local/lib/python3.11/dist-packages (from ydata-profiling) (0.13.2)\n",
            "Requirement already satisfied: multimethod<2,>=1.4 in /usr/local/lib/python3.11/dist-packages (from ydata-profiling) (1.12)\n",
            "Requirement already satisfied: statsmodels<1,>=0.13.2 in /usr/local/lib/python3.11/dist-packages (from ydata-profiling) (0.14.4)\n",
            "Requirement already satisfied: typeguard<5,>=3 in /usr/local/lib/python3.11/dist-packages (from ydata-profiling) (4.4.2)\n",
            "Requirement already satisfied: imagehash==4.3.1 in /usr/local/lib/python3.11/dist-packages (from ydata-profiling) (4.3.1)\n",
            "Requirement already satisfied: wordcloud>=1.9.3 in /usr/local/lib/python3.11/dist-packages (from ydata-profiling) (1.9.4)\n",
            "Requirement already satisfied: dacite>=1.8 in /usr/local/lib/python3.11/dist-packages (from ydata-profiling) (1.9.2)\n",
            "Requirement already satisfied: numba<1,>=0.56.0 in /usr/local/lib/python3.11/dist-packages (from ydata-profiling) (0.60.0)\n",
            "Requirement already satisfied: PyWavelets in /usr/local/lib/python3.11/dist-packages (from imagehash==4.3.1->ydata-profiling) (1.8.0)\n",
            "Requirement already satisfied: pillow in /usr/local/lib/python3.11/dist-packages (from imagehash==4.3.1->ydata-profiling) (11.1.0)\n",
            "Requirement already satisfied: MarkupSafe>=2.0 in /usr/local/lib/python3.11/dist-packages (from jinja2<3.2,>=2.11.1->ydata-profiling) (3.0.2)\n",
            "Requirement already satisfied: contourpy>=1.0.1 in /usr/local/lib/python3.11/dist-packages (from matplotlib<=3.10,>=3.5->ydata-profiling) (1.3.1)\n",
            "Requirement already satisfied: cycler>=0.10 in /usr/local/lib/python3.11/dist-packages (from matplotlib<=3.10,>=3.5->ydata-profiling) (0.12.1)\n",
            "Requirement already satisfied: fonttools>=4.22.0 in /usr/local/lib/python3.11/dist-packages (from matplotlib<=3.10,>=3.5->ydata-profiling) (4.56.0)\n",
            "Requirement already satisfied: kiwisolver>=1.3.1 in /usr/local/lib/python3.11/dist-packages (from matplotlib<=3.10,>=3.5->ydata-profiling) (1.4.8)\n",
            "Requirement already satisfied: packaging>=20.0 in /usr/local/lib/python3.11/dist-packages (from matplotlib<=3.10,>=3.5->ydata-profiling) (24.2)\n",
            "Requirement already satisfied: pyparsing>=2.3.1 in /usr/local/lib/python3.11/dist-packages (from matplotlib<=3.10,>=3.5->ydata-profiling) (3.2.1)\n",
            "Requirement already satisfied: python-dateutil>=2.7 in /usr/local/lib/python3.11/dist-packages (from matplotlib<=3.10,>=3.5->ydata-profiling) (2.8.2)\n",
            "Requirement already satisfied: llvmlite<0.44,>=0.43.0dev0 in /usr/local/lib/python3.11/dist-packages (from numba<1,>=0.56.0->ydata-profiling) (0.43.0)\n",
            "Requirement already satisfied: pytz>=2020.1 in /usr/local/lib/python3.11/dist-packages (from pandas!=1.4.0,<3.0,>1.1->ydata-profiling) (2025.1)\n",
            "Requirement already satisfied: tzdata>=2022.7 in /usr/local/lib/python3.11/dist-packages (from pandas!=1.4.0,<3.0,>1.1->ydata-profiling) (2025.1)\n",
            "Requirement already satisfied: joblib>=0.14.1 in /usr/local/lib/python3.11/dist-packages (from phik<0.13,>=0.11.1->ydata-profiling) (1.4.2)\n",
            "Requirement already satisfied: annotated-types>=0.6.0 in /usr/local/lib/python3.11/dist-packages (from pydantic>=2->ydata-profiling) (0.7.0)\n",
            "Requirement already satisfied: pydantic-core==2.27.2 in /usr/local/lib/python3.11/dist-packages (from pydantic>=2->ydata-profiling) (2.27.2)\n",
            "Requirement already satisfied: typing-extensions>=4.12.2 in /usr/local/lib/python3.11/dist-packages (from pydantic>=2->ydata-profiling) (4.12.2)\n",
            "Requirement already satisfied: charset-normalizer<4,>=2 in /usr/local/lib/python3.11/dist-packages (from requests<3,>=2.24.0->ydata-profiling) (3.4.1)\n",
            "Requirement already satisfied: idna<4,>=2.5 in /usr/local/lib/python3.11/dist-packages (from requests<3,>=2.24.0->ydata-profiling) (3.10)\n",
            "Requirement already satisfied: urllib3<3,>=1.21.1 in /usr/local/lib/python3.11/dist-packages (from requests<3,>=2.24.0->ydata-profiling) (2.3.0)\n",
            "Requirement already satisfied: certifi>=2017.4.17 in /usr/local/lib/python3.11/dist-packages (from requests<3,>=2.24.0->ydata-profiling) (2025.1.31)\n",
            "Requirement already satisfied: patsy>=0.5.6 in /usr/local/lib/python3.11/dist-packages (from statsmodels<1,>=0.13.2->ydata-profiling) (1.0.1)\n",
            "Requirement already satisfied: attrs>=19.3.0 in /usr/local/lib/python3.11/dist-packages (from visions<0.7.7,>=0.7.5->visions[type_image_path]<0.7.7,>=0.7.5->ydata-profiling) (25.1.0)\n",
            "Requirement already satisfied: networkx>=2.4 in /usr/local/lib/python3.11/dist-packages (from visions<0.7.7,>=0.7.5->visions[type_image_path]<0.7.7,>=0.7.5->ydata-profiling) (3.4.2)\n",
            "Requirement already satisfied: six>=1.5 in /usr/local/lib/python3.11/dist-packages (from python-dateutil>=2.7->matplotlib<=3.10,>=3.5->ydata-profiling) (1.17.0)\n"
          ]
        }
      ]
    },
    {
      "cell_type": "code",
      "source": [
        "file_id = '1W2RFSUveoSCtpLxcaOTZmLAe0sczxPTW'\n",
        "\n",
        "download_url = f'https://drive.google.com/uc?export=download&id={file_id}'\n",
        "gdown.download(download_url, 'hurto_a_persona.csv', quiet=False)"
      ],
      "metadata": {
        "id": "tUfz8EGVNkLW",
        "colab": {
          "base_uri": "https://localhost:8080/",
          "height": 142
        },
        "outputId": "63674de1-5ebf-4212-bf84-7524f7b67681"
      },
      "execution_count": 15,
      "outputs": [
        {
          "output_type": "stream",
          "name": "stderr",
          "text": [
            "Downloading...\n",
            "From (original): https://drive.google.com/uc?export=download&id=1W2RFSUveoSCtpLxcaOTZmLAe0sczxPTW\n",
            "From (redirected): https://drive.google.com/uc?export=download&id=1W2RFSUveoSCtpLxcaOTZmLAe0sczxPTW&confirm=t&uuid=07906353-8a26-4a4d-8b6c-f946ad22ba20\n",
            "To: /content/hurto_a_persona.csv\n",
            "100%|██████████| 124M/124M [00:01<00:00, 82.7MB/s]\n"
          ]
        },
        {
          "output_type": "execute_result",
          "data": {
            "text/plain": [
              "'hurto_a_persona.csv'"
            ],
            "application/vnd.google.colaboratory.intrinsic+json": {
              "type": "string"
            }
          },
          "metadata": {},
          "execution_count": 15
        }
      ]
    },
    {
      "cell_type": "code",
      "execution_count": 16,
      "metadata": {
        "colab": {
          "base_uri": "https://localhost:8080/"
        },
        "id": "WkQWMonpctMP",
        "outputId": "c2c076ff-8014-49b0-b240-5f81baf3ce88"
      },
      "outputs": [
        {
          "output_type": "stream",
          "name": "stderr",
          "text": [
            "<ipython-input-16-4f77b2b51170>:2: DtypeWarning: Columns (25) have mixed types. Specify dtype option on import or set low_memory=False.\n",
            "  df = pd.read_csv('/content/hurto_a_persona.csv')\n"
          ]
        },
        {
          "output_type": "stream",
          "name": "stdout",
          "text": [
            "<class 'pandas.core.frame.DataFrame'>\n",
            "RangeIndex: 326489 entries, 0 to 326488\n",
            "Data columns (total 36 columns):\n",
            " #   Column               Non-Null Count   Dtype  \n",
            "---  ------               --------------   -----  \n",
            " 0   fecha_hecho          326489 non-null  object \n",
            " 1   cantidad             326489 non-null  float64\n",
            " 2   latitud              284545 non-null  float64\n",
            " 3   longitud             284545 non-null  float64\n",
            " 4   sexo                 326489 non-null  object \n",
            " 5   edad                 326489 non-null  int64  \n",
            " 6   estado_civil         326489 non-null  object \n",
            " 7   grupo_actor          326489 non-null  object \n",
            " 8   actividad_delictiva  326489 non-null  object \n",
            " 9   parentesco           326489 non-null  object \n",
            " 10  ocupacion            326489 non-null  object \n",
            " 11  discapacidad         326489 non-null  object \n",
            " 12  grupo_especial       326489 non-null  object \n",
            " 13  medio_transporte     326489 non-null  object \n",
            " 14  nivel_academico      326489 non-null  object \n",
            " 15  testigo              326489 non-null  object \n",
            " 16  conducta             326489 non-null  object \n",
            " 17  modalidad            326489 non-null  object \n",
            " 18  caracterizacion      326489 non-null  object \n",
            " 19  conducta_especial    326489 non-null  object \n",
            " 20  arma_medio           326489 non-null  object \n",
            " 21  articulo_penal       326489 non-null  object \n",
            " 22  categoria_penal      326489 non-null  object \n",
            " 23  nombre_barrio        326489 non-null  object \n",
            " 24  codigo_barrio        326489 non-null  object \n",
            " 25  codigo_comuna        326489 non-null  object \n",
            " 26  lugar                326489 non-null  object \n",
            " 27  sede_receptora       326489 non-null  object \n",
            " 28  bien                 326489 non-null  object \n",
            " 29  categoria_bien       326489 non-null  object \n",
            " 30  grupo_bien           326489 non-null  object \n",
            " 31  modelo               326489 non-null  int64  \n",
            " 32  color                326489 non-null  object \n",
            " 33  permiso              326489 non-null  object \n",
            " 34  unidad_medida        326489 non-null  object \n",
            " 35  fecha_ingestion      326489 non-null  object \n",
            "dtypes: float64(3), int64(2), object(31)\n",
            "memory usage: 89.7+ MB\n"
          ]
        }
      ],
      "source": [
        "import pandas as pd\n",
        "df = pd.read_csv('/content/hurto_a_persona.csv')"
      ]
    },
    {
      "cell_type": "code",
      "source": [
        "df['fecha_hecho'] = pd.to_datetime(df['fecha_hecho'])\n",
        "df.info()"
      ],
      "metadata": {
        "colab": {
          "base_uri": "https://localhost:8080/"
        },
        "id": "OLTrXQcXQbmZ",
        "outputId": "9aa9c381-6bb8-4972-f83e-3a09f44c39f4"
      },
      "execution_count": 20,
      "outputs": [
        {
          "output_type": "stream",
          "name": "stdout",
          "text": [
            "<class 'pandas.core.frame.DataFrame'>\n",
            "RangeIndex: 326489 entries, 0 to 326488\n",
            "Data columns (total 36 columns):\n",
            " #   Column               Non-Null Count   Dtype                    \n",
            "---  ------               --------------   -----                    \n",
            " 0   fecha_hecho          326489 non-null  datetime64[ns, UTC-05:00]\n",
            " 1   cantidad             326489 non-null  float64                  \n",
            " 2   latitud              284545 non-null  float64                  \n",
            " 3   longitud             284545 non-null  float64                  \n",
            " 4   sexo                 326489 non-null  object                   \n",
            " 5   edad                 326489 non-null  int64                    \n",
            " 6   estado_civil         326489 non-null  object                   \n",
            " 7   grupo_actor          326489 non-null  object                   \n",
            " 8   actividad_delictiva  326489 non-null  object                   \n",
            " 9   parentesco           326489 non-null  object                   \n",
            " 10  ocupacion            326489 non-null  object                   \n",
            " 11  discapacidad         326489 non-null  object                   \n",
            " 12  grupo_especial       326489 non-null  object                   \n",
            " 13  medio_transporte     326489 non-null  object                   \n",
            " 14  nivel_academico      326489 non-null  object                   \n",
            " 15  testigo              326489 non-null  object                   \n",
            " 16  conducta             326489 non-null  object                   \n",
            " 17  modalidad            326489 non-null  object                   \n",
            " 18  caracterizacion      326489 non-null  object                   \n",
            " 19  conducta_especial    326489 non-null  object                   \n",
            " 20  arma_medio           326489 non-null  object                   \n",
            " 21  articulo_penal       326489 non-null  object                   \n",
            " 22  categoria_penal      326489 non-null  object                   \n",
            " 23  nombre_barrio        326489 non-null  object                   \n",
            " 24  codigo_barrio        326489 non-null  object                   \n",
            " 25  codigo_comuna        326489 non-null  object                   \n",
            " 26  lugar                326489 non-null  object                   \n",
            " 27  sede_receptora       326489 non-null  object                   \n",
            " 28  bien                 326489 non-null  object                   \n",
            " 29  categoria_bien       326489 non-null  object                   \n",
            " 30  grupo_bien           326489 non-null  object                   \n",
            " 31  modelo               326489 non-null  int64                    \n",
            " 32  color                326489 non-null  object                   \n",
            " 33  permiso              326489 non-null  object                   \n",
            " 34  unidad_medida        326489 non-null  object                   \n",
            " 35  fecha_ingestion      326489 non-null  object                   \n",
            "dtypes: datetime64[ns, UTC-05:00](1), float64(3), int64(2), object(30)\n",
            "memory usage: 89.7+ MB\n"
          ]
        }
      ]
    },
    {
      "cell_type": "code",
      "source": [
        "df.replace('Sin dato', np.nan, inplace=True)\n",
        "df.isnull().sum()"
      ],
      "metadata": {
        "colab": {
          "base_uri": "https://localhost:8080/",
          "height": 1000
        },
        "id": "4bAd_8Yu1tHE",
        "outputId": "6c3fcd29-09b5-4b5f-9d94-ed06ab3b8269"
      },
      "execution_count": 22,
      "outputs": [
        {
          "output_type": "stream",
          "name": "stderr",
          "text": [
            "<ipython-input-22-74df9e522d7a>:1: FutureWarning: Downcasting behavior in `replace` is deprecated and will be removed in a future version. To retain the old behavior, explicitly call `result.infer_objects(copy=False)`. To opt-in to the future behavior, set `pd.set_option('future.no_silent_downcasting', True)`\n",
            "  df.replace('Sin dato', np.nan, inplace=True)\n"
          ]
        },
        {
          "output_type": "execute_result",
          "data": {
            "text/plain": [
              "fecha_hecho                 0\n",
              "cantidad                    0\n",
              "latitud                 41944\n",
              "longitud                41944\n",
              "sexo                     1701\n",
              "edad                        0\n",
              "estado_civil            38103\n",
              "grupo_actor            326489\n",
              "actividad_delictiva    326489\n",
              "parentesco             326489\n",
              "ocupacion              326489\n",
              "discapacidad           326489\n",
              "grupo_especial         326489\n",
              "medio_transporte        15612\n",
              "nivel_academico        326489\n",
              "testigo                326489\n",
              "conducta                    0\n",
              "modalidad               11294\n",
              "caracterizacion        326489\n",
              "conducta_especial      228738\n",
              "arma_medio               9641\n",
              "articulo_penal         326489\n",
              "categoria_penal        326489\n",
              "nombre_barrio            5171\n",
              "codigo_barrio               0\n",
              "codigo_comuna               0\n",
              "lugar                    4797\n",
              "sede_receptora           5544\n",
              "bien                    30458\n",
              "categoria_bien          30458\n",
              "grupo_bien              30458\n",
              "modelo                      0\n",
              "color                  241457\n",
              "permiso                326489\n",
              "unidad_medida          326489\n",
              "fecha_ingestion             0\n",
              "dtype: int64"
            ],
            "text/html": [
              "<div>\n",
              "<style scoped>\n",
              "    .dataframe tbody tr th:only-of-type {\n",
              "        vertical-align: middle;\n",
              "    }\n",
              "\n",
              "    .dataframe tbody tr th {\n",
              "        vertical-align: top;\n",
              "    }\n",
              "\n",
              "    .dataframe thead th {\n",
              "        text-align: right;\n",
              "    }\n",
              "</style>\n",
              "<table border=\"1\" class=\"dataframe\">\n",
              "  <thead>\n",
              "    <tr style=\"text-align: right;\">\n",
              "      <th></th>\n",
              "      <th>0</th>\n",
              "    </tr>\n",
              "  </thead>\n",
              "  <tbody>\n",
              "    <tr>\n",
              "      <th>fecha_hecho</th>\n",
              "      <td>0</td>\n",
              "    </tr>\n",
              "    <tr>\n",
              "      <th>cantidad</th>\n",
              "      <td>0</td>\n",
              "    </tr>\n",
              "    <tr>\n",
              "      <th>latitud</th>\n",
              "      <td>41944</td>\n",
              "    </tr>\n",
              "    <tr>\n",
              "      <th>longitud</th>\n",
              "      <td>41944</td>\n",
              "    </tr>\n",
              "    <tr>\n",
              "      <th>sexo</th>\n",
              "      <td>1701</td>\n",
              "    </tr>\n",
              "    <tr>\n",
              "      <th>edad</th>\n",
              "      <td>0</td>\n",
              "    </tr>\n",
              "    <tr>\n",
              "      <th>estado_civil</th>\n",
              "      <td>38103</td>\n",
              "    </tr>\n",
              "    <tr>\n",
              "      <th>grupo_actor</th>\n",
              "      <td>326489</td>\n",
              "    </tr>\n",
              "    <tr>\n",
              "      <th>actividad_delictiva</th>\n",
              "      <td>326489</td>\n",
              "    </tr>\n",
              "    <tr>\n",
              "      <th>parentesco</th>\n",
              "      <td>326489</td>\n",
              "    </tr>\n",
              "    <tr>\n",
              "      <th>ocupacion</th>\n",
              "      <td>326489</td>\n",
              "    </tr>\n",
              "    <tr>\n",
              "      <th>discapacidad</th>\n",
              "      <td>326489</td>\n",
              "    </tr>\n",
              "    <tr>\n",
              "      <th>grupo_especial</th>\n",
              "      <td>326489</td>\n",
              "    </tr>\n",
              "    <tr>\n",
              "      <th>medio_transporte</th>\n",
              "      <td>15612</td>\n",
              "    </tr>\n",
              "    <tr>\n",
              "      <th>nivel_academico</th>\n",
              "      <td>326489</td>\n",
              "    </tr>\n",
              "    <tr>\n",
              "      <th>testigo</th>\n",
              "      <td>326489</td>\n",
              "    </tr>\n",
              "    <tr>\n",
              "      <th>conducta</th>\n",
              "      <td>0</td>\n",
              "    </tr>\n",
              "    <tr>\n",
              "      <th>modalidad</th>\n",
              "      <td>11294</td>\n",
              "    </tr>\n",
              "    <tr>\n",
              "      <th>caracterizacion</th>\n",
              "      <td>326489</td>\n",
              "    </tr>\n",
              "    <tr>\n",
              "      <th>conducta_especial</th>\n",
              "      <td>228738</td>\n",
              "    </tr>\n",
              "    <tr>\n",
              "      <th>arma_medio</th>\n",
              "      <td>9641</td>\n",
              "    </tr>\n",
              "    <tr>\n",
              "      <th>articulo_penal</th>\n",
              "      <td>326489</td>\n",
              "    </tr>\n",
              "    <tr>\n",
              "      <th>categoria_penal</th>\n",
              "      <td>326489</td>\n",
              "    </tr>\n",
              "    <tr>\n",
              "      <th>nombre_barrio</th>\n",
              "      <td>5171</td>\n",
              "    </tr>\n",
              "    <tr>\n",
              "      <th>codigo_barrio</th>\n",
              "      <td>0</td>\n",
              "    </tr>\n",
              "    <tr>\n",
              "      <th>codigo_comuna</th>\n",
              "      <td>0</td>\n",
              "    </tr>\n",
              "    <tr>\n",
              "      <th>lugar</th>\n",
              "      <td>4797</td>\n",
              "    </tr>\n",
              "    <tr>\n",
              "      <th>sede_receptora</th>\n",
              "      <td>5544</td>\n",
              "    </tr>\n",
              "    <tr>\n",
              "      <th>bien</th>\n",
              "      <td>30458</td>\n",
              "    </tr>\n",
              "    <tr>\n",
              "      <th>categoria_bien</th>\n",
              "      <td>30458</td>\n",
              "    </tr>\n",
              "    <tr>\n",
              "      <th>grupo_bien</th>\n",
              "      <td>30458</td>\n",
              "    </tr>\n",
              "    <tr>\n",
              "      <th>modelo</th>\n",
              "      <td>0</td>\n",
              "    </tr>\n",
              "    <tr>\n",
              "      <th>color</th>\n",
              "      <td>241457</td>\n",
              "    </tr>\n",
              "    <tr>\n",
              "      <th>permiso</th>\n",
              "      <td>326489</td>\n",
              "    </tr>\n",
              "    <tr>\n",
              "      <th>unidad_medida</th>\n",
              "      <td>326489</td>\n",
              "    </tr>\n",
              "    <tr>\n",
              "      <th>fecha_ingestion</th>\n",
              "      <td>0</td>\n",
              "    </tr>\n",
              "  </tbody>\n",
              "</table>\n",
              "</div><br><label><b>dtype:</b> int64</label>"
            ]
          },
          "metadata": {},
          "execution_count": 22
        }
      ]
    },
    {
      "cell_type": "code",
      "source": [
        "df.drop(columns=['caracterizacion', 'categoria_penal', 'nivel_academico', 'grupo_especial', 'discapacidad', 'ocupacion',\n",
        "                 'parentesco', 'grupo_actor', 'actividad_delictiva', 'testigo', 'articulo_penal', 'categoria_penal',\n",
        "                 'permiso', 'unidad_medida','conducta'], inplace=True)\n",
        "df.info()"
      ],
      "metadata": {
        "colab": {
          "base_uri": "https://localhost:8080/"
        },
        "id": "Ba2O89cZ16Iw",
        "outputId": "cd66377a-21ff-4fec-e16a-56d8702bd7a4"
      },
      "execution_count": 23,
      "outputs": [
        {
          "output_type": "stream",
          "name": "stdout",
          "text": [
            "<class 'pandas.core.frame.DataFrame'>\n",
            "RangeIndex: 326489 entries, 0 to 326488\n",
            "Data columns (total 23 columns):\n",
            " #   Column             Non-Null Count   Dtype                    \n",
            "---  ------             --------------   -----                    \n",
            " 0   fecha_hecho        326489 non-null  datetime64[ns, UTC-05:00]\n",
            " 1   cantidad           326489 non-null  float64                  \n",
            " 2   latitud            284545 non-null  float64                  \n",
            " 3   longitud           284545 non-null  float64                  \n",
            " 4   sexo               324788 non-null  object                   \n",
            " 5   edad               326489 non-null  int64                    \n",
            " 6   estado_civil       288386 non-null  object                   \n",
            " 7   medio_transporte   310877 non-null  object                   \n",
            " 8   conducta           326489 non-null  object                   \n",
            " 9   modalidad          315195 non-null  object                   \n",
            " 10  conducta_especial  97751 non-null   object                   \n",
            " 11  arma_medio         316848 non-null  object                   \n",
            " 12  nombre_barrio      321318 non-null  object                   \n",
            " 13  codigo_barrio      326489 non-null  object                   \n",
            " 14  codigo_comuna      326489 non-null  object                   \n",
            " 15  lugar              321692 non-null  object                   \n",
            " 16  sede_receptora     320945 non-null  object                   \n",
            " 17  bien               296031 non-null  object                   \n",
            " 18  categoria_bien     296031 non-null  object                   \n",
            " 19  grupo_bien         296031 non-null  object                   \n",
            " 20  modelo             326489 non-null  int64                    \n",
            " 21  color              85032 non-null   object                   \n",
            " 22  fecha_ingestion    326489 non-null  object                   \n",
            "dtypes: datetime64[ns, UTC-05:00](1), float64(3), int64(2), object(17)\n",
            "memory usage: 57.3+ MB\n"
          ]
        }
      ]
    },
    {
      "cell_type": "code",
      "source": [
        "df = df[df[\"fecha_hecho\"] > \"2015-01-01\"]\n",
        "df.info()"
      ],
      "metadata": {
        "colab": {
          "base_uri": "https://localhost:8080/"
        },
        "id": "e9xRAiQo3tB9",
        "outputId": "bf45d698-3218-4583-f829-b73f8c2ab32c"
      },
      "execution_count": 38,
      "outputs": [
        {
          "output_type": "stream",
          "name": "stdout",
          "text": [
            "<class 'pandas.core.frame.DataFrame'>\n",
            "Index: 268680 entries, 0 to 326488\n",
            "Data columns (total 23 columns):\n",
            " #   Column             Non-Null Count   Dtype                    \n",
            "---  ------             --------------   -----                    \n",
            " 0   fecha_hecho        268680 non-null  datetime64[ns, UTC-05:00]\n",
            " 1   cantidad           268680 non-null  float64                  \n",
            " 2   latitud            240967 non-null  float64                  \n",
            " 3   longitud           240967 non-null  float64                  \n",
            " 4   sexo               268643 non-null  object                   \n",
            " 5   edad               268680 non-null  int64                    \n",
            " 6   estado_civil       238465 non-null  object                   \n",
            " 7   medio_transporte   268642 non-null  object                   \n",
            " 8   conducta           268680 non-null  object                   \n",
            " 9   modalidad          265474 non-null  object                   \n",
            " 10  conducta_especial  79680 non-null   object                   \n",
            " 11  arma_medio         267000 non-null  object                   \n",
            " 12  nombre_barrio      264407 non-null  object                   \n",
            " 13  codigo_barrio      268680 non-null  object                   \n",
            " 14  codigo_comuna      268680 non-null  object                   \n",
            " 15  lugar              265290 non-null  object                   \n",
            " 16  sede_receptora     268680 non-null  object                   \n",
            " 17  bien               240199 non-null  object                   \n",
            " 18  categoria_bien     240199 non-null  object                   \n",
            " 19  grupo_bien         240199 non-null  object                   \n",
            " 20  modelo             268680 non-null  int64                    \n",
            " 21  color              75772 non-null   object                   \n",
            " 22  fecha_ingestion    268680 non-null  object                   \n",
            "dtypes: datetime64[ns, UTC-05:00](1), float64(3), int64(2), object(17)\n",
            "memory usage: 49.2+ MB\n"
          ]
        }
      ]
    }
  ]
}